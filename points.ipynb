{
  "nbformat": 4,
  "nbformat_minor": 0,
  "metadata": {
    "colab": {
      "provenance": [],
      "authorship_tag": "ABX9TyOOONmBujncvAIB7mFcfy/M",
      "include_colab_link": true
    },
    "kernelspec": {
      "name": "python3",
      "display_name": "Python 3"
    },
    "language_info": {
      "name": "python"
    }
  },
  "cells": [
    {
      "cell_type": "markdown",
      "metadata": {
        "id": "view-in-github",
        "colab_type": "text"
      },
      "source": [
        "<a href=\"https://colab.research.google.com/github/JuIsa/DotArt/blob/main/points.ipynb\" target=\"_parent\"><img src=\"https://colab.research.google.com/assets/colab-badge.svg\" alt=\"Open In Colab\"/></a>"
      ]
    },
    {
      "cell_type": "code",
      "execution_count": 3,
      "metadata": {
        "id": "k9J2ni4Heqls"
      },
      "outputs": [],
      "source": [
        "class Point:\n",
        "  def __init__(self,x,y):\n",
        "    self.x=x\n",
        "    self.y=y\n"
      ]
    },
    {
      "cell_type": "code",
      "source": [
        "points = [Point(1,1),Point(5,5),Point(7,1)]"
      ],
      "metadata": {
        "id": "SOgabDFofHju"
      },
      "execution_count": 65,
      "outputs": []
    },
    {
      "cell_type": "code",
      "source": [
        "n = 4"
      ],
      "metadata": {
        "id": "jEUgl8p8fNfH"
      },
      "execution_count": 66,
      "outputs": []
    },
    {
      "cell_type": "code",
      "source": [
        "import random\n",
        "for i in range(n):\n",
        "  pointA, pointB = random.sample(points,2)\n",
        "  newPoint = Point((pointA.x+pointB.x)/2,(pointA.y+pointB.y)/2)\n",
        "  points.append(newPoint)"
      ],
      "metadata": {
        "id": "kHQOGn6rfp5C"
      },
      "execution_count": 67,
      "outputs": []
    },
    {
      "cell_type": "code",
      "source": [
        "import matplotlib.pyplot as plt\n",
        "import seaborn as sns"
      ],
      "metadata": {
        "id": "-HHL5wk-gJPe"
      },
      "execution_count": 28,
      "outputs": []
    },
    {
      "cell_type": "code",
      "source": [
        "X = [point.x for point in points]\n",
        "Y = [point.y for point in points]"
      ],
      "metadata": {
        "id": "eHaR6goZgL-L"
      },
      "execution_count": 68,
      "outputs": []
    },
    {
      "cell_type": "code",
      "source": [
        "sns.scatterplot(x=X,y=Y, size=0.1,marker='.')\n",
        "plt.show()"
      ],
      "metadata": {
        "colab": {
          "base_uri": "https://localhost:8080/",
          "height": 430
        },
        "id": "_3iaM5bogXXf",
        "outputId": "f8161fd2-b623-4cf0-9cb7-7b99cb051594"
      },
      "execution_count": 70,
      "outputs": [
        {
          "output_type": "display_data",
          "data": {
            "text/plain": [
              "<Figure size 640x480 with 1 Axes>"
            ],
            "image/png": "[encoded data removed]"
          },
          "metadata": {}
        }
      ]
    },
    {
      "cell_type": "code",
      "source": [
        "%%timeit\n",
        "x = list(range(10000))"
      ],
      "metadata": {
        "colab": {
          "base_uri": "https://localhost:8080/"
        },
        "id": "ta-fZvJCgbNa",
        "outputId": "b94ed1c7-8cc0-4ae5-cedd-3158984740a9"
      },
      "execution_count": 79,
      "outputs": [
        {
          "output_type": "stream",
          "name": "stdout",
          "text": [
            "173 µs ± 44.9 µs per loop (mean ± std. dev. of 7 runs, 10000 loops each)\n"
          ]
        }
      ]
    },
    {
      "cell_type": "code",
      "source": [
        "%%timeit\n",
        "y = [i for i in range(10000)]"
      ],
      "metadata": {
        "colab": {
          "base_uri": "https://localhost:8080/"
        },
        "id": "v0GamzOO1G10",
        "outputId": "aba89c5a-8440-4225-e13e-1d0c5541d4e8"
      },
      "execution_count": 78,
      "outputs": [
        {
          "output_type": "stream",
          "name": "stdout",
          "text": [
            "484 µs ± 154 µs per loop (mean ± std. dev. of 7 runs, 1000 loops each)\n"
          ]
        }
      ]
    },
    {
      "cell_type": "markdown",
      "source": [
        "# 3D"
      ],
      "metadata": {
        "id": "3MwQ_7fE6jjf"
      }
    },
    {
      "cell_type": "code",
      "source": [
        "class Point3D(Point):\n",
        "  def __init__(self,x,y,z):\n",
        "    super().__init__(x,y)\n",
        "    self.z = z"
      ],
      "metadata": {
        "id": "GVWkXQ3k6ktj"
      },
      "execution_count": 80,
      "outputs": []
    },
    {
      "cell_type": "code",
      "source": [
        "p3d = Point3D(2,2,2)"
      ],
      "metadata": {
        "id": "3WapTxE668ig"
      },
      "execution_count": 83,
      "outputs": []
    },
    {
      "cell_type": "code",
      "source": [],
      "metadata": {
        "id": "bnxbAy2C9EcU"
      },
      "execution_count": 102,
      "outputs": []
    },
    {
      "cell_type": "code",
      "source": [],
      "metadata": {
        "id": "46hWUSjd9fPY"
      },
      "execution_count": 102,
      "outputs": []
    },
    {
      "cell_type": "code",
      "source": [],
      "metadata": {
        "id": "XKDOGDyn7Bdd"
      },
      "execution_count": 102,
      "outputs": []
    },
    {
      "cell_type": "code",
      "source": [
        "from google.colab import output\n",
        "output.enable_custom_widget_manager()"
      ],
      "metadata": {
        "id": "MvdrJq8H9J2J"
      },
      "execution_count": 98,
      "outputs": []
    },
    {
      "cell_type": "code",
      "source": [
        "from google.colab import output\n",
        "output.disable_custom_widget_manager()"
      ],
      "metadata": {
        "id": "fUvMbsgv9J2K"
      },
      "execution_count": null,
      "outputs": []
    }
  ]
}